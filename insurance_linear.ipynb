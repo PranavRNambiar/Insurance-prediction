{
  "nbformat": 4,
  "nbformat_minor": 0,
  "metadata": {
    "kernelspec": {
      "display_name": "Python 3",
      "language": "python",
      "name": "python3"
    },
    "language_info": {
      "codemirror_mode": {
        "name": "ipython",
        "version": 3
      },
      "file_extension": ".py",
      "mimetype": "text/x-python",
      "name": "python",
      "nbconvert_exporter": "python",
      "pygments_lexer": "ipython3",
      "version": "3.8.5"
    },
    "colab": {
      "name": "02-insurance-linear.ipynb",
      "provenance": []
    },
    "widgets": {
      "application/vnd.jupyter.widget-state+json": {
        "7a3a79522ea44df38fa8210d8386af4a": {
          "model_module": "@jupyter-widgets/controls",
          "model_name": "HBoxModel",
          "state": {
            "_view_name": "HBoxView",
            "_dom_classes": [],
            "_model_name": "HBoxModel",
            "_view_module": "@jupyter-widgets/controls",
            "_model_module_version": "1.5.0",
            "_view_count": null,
            "_view_module_version": "1.5.0",
            "box_style": "",
            "layout": "IPY_MODEL_c61b2abd328d471e8d28a2765b79d864",
            "_model_module": "@jupyter-widgets/controls",
            "children": [
              "IPY_MODEL_b7ea4ab773b14d508990b3a210e69070",
              "IPY_MODEL_01bc1008ebbc47bf934a9728e93e6c8e"
            ]
          }
        },
        "c61b2abd328d471e8d28a2765b79d864": {
          "model_module": "@jupyter-widgets/base",
          "model_name": "LayoutModel",
          "state": {
            "_view_name": "LayoutView",
            "grid_template_rows": null,
            "right": null,
            "justify_content": null,
            "_view_module": "@jupyter-widgets/base",
            "overflow": null,
            "_model_module_version": "1.2.0",
            "_view_count": null,
            "flex_flow": null,
            "width": null,
            "min_width": null,
            "border": null,
            "align_items": null,
            "bottom": null,
            "_model_module": "@jupyter-widgets/base",
            "top": null,
            "grid_column": null,
            "overflow_y": null,
            "overflow_x": null,
            "grid_auto_flow": null,
            "grid_area": null,
            "grid_template_columns": null,
            "flex": null,
            "_model_name": "LayoutModel",
            "justify_items": null,
            "grid_row": null,
            "max_height": null,
            "align_content": null,
            "visibility": null,
            "align_self": null,
            "height": null,
            "min_height": null,
            "padding": null,
            "grid_auto_rows": null,
            "grid_gap": null,
            "max_width": null,
            "order": null,
            "_view_module_version": "1.2.0",
            "grid_template_areas": null,
            "object_position": null,
            "object_fit": null,
            "grid_auto_columns": null,
            "margin": null,
            "display": null,
            "left": null
          }
        },
        "b7ea4ab773b14d508990b3a210e69070": {
          "model_module": "@jupyter-widgets/controls",
          "model_name": "FloatProgressModel",
          "state": {
            "_view_name": "ProgressView",
            "style": "IPY_MODEL_d682b21283434cafb8273a0676fd1b04",
            "_dom_classes": [],
            "description": "",
            "_model_name": "FloatProgressModel",
            "bar_style": "info",
            "max": 1,
            "_view_module": "@jupyter-widgets/controls",
            "_model_module_version": "1.5.0",
            "value": 1,
            "_view_count": null,
            "_view_module_version": "1.5.0",
            "orientation": "horizontal",
            "min": 0,
            "description_tooltip": null,
            "_model_module": "@jupyter-widgets/controls",
            "layout": "IPY_MODEL_5ee8695623574b5eac0f84cfdbe0c3d1"
          }
        },
        "01bc1008ebbc47bf934a9728e93e6c8e": {
          "model_module": "@jupyter-widgets/controls",
          "model_name": "HTMLModel",
          "state": {
            "_view_name": "HTMLView",
            "style": "IPY_MODEL_3dff477c067b4f188a33387781af35a0",
            "_dom_classes": [],
            "description": "",
            "_model_name": "HTMLModel",
            "placeholder": "​",
            "_view_module": "@jupyter-widgets/controls",
            "_model_module_version": "1.5.0",
            "value": " 57344/? [00:20&lt;00:00, 140837.79it/s]",
            "_view_count": null,
            "_view_module_version": "1.5.0",
            "description_tooltip": null,
            "_model_module": "@jupyter-widgets/controls",
            "layout": "IPY_MODEL_9232bc7414a7463e820502ab47c99c79"
          }
        },
        "d682b21283434cafb8273a0676fd1b04": {
          "model_module": "@jupyter-widgets/controls",
          "model_name": "ProgressStyleModel",
          "state": {
            "_view_name": "StyleView",
            "_model_name": "ProgressStyleModel",
            "description_width": "initial",
            "_view_module": "@jupyter-widgets/base",
            "_model_module_version": "1.5.0",
            "_view_count": null,
            "_view_module_version": "1.2.0",
            "bar_color": null,
            "_model_module": "@jupyter-widgets/controls"
          }
        },
        "5ee8695623574b5eac0f84cfdbe0c3d1": {
          "model_module": "@jupyter-widgets/base",
          "model_name": "LayoutModel",
          "state": {
            "_view_name": "LayoutView",
            "grid_template_rows": null,
            "right": null,
            "justify_content": null,
            "_view_module": "@jupyter-widgets/base",
            "overflow": null,
            "_model_module_version": "1.2.0",
            "_view_count": null,
            "flex_flow": null,
            "width": null,
            "min_width": null,
            "border": null,
            "align_items": null,
            "bottom": null,
            "_model_module": "@jupyter-widgets/base",
            "top": null,
            "grid_column": null,
            "overflow_y": null,
            "overflow_x": null,
            "grid_auto_flow": null,
            "grid_area": null,
            "grid_template_columns": null,
            "flex": null,
            "_model_name": "LayoutModel",
            "justify_items": null,
            "grid_row": null,
            "max_height": null,
            "align_content": null,
            "visibility": null,
            "align_self": null,
            "height": null,
            "min_height": null,
            "padding": null,
            "grid_auto_rows": null,
            "grid_gap": null,
            "max_width": null,
            "order": null,
            "_view_module_version": "1.2.0",
            "grid_template_areas": null,
            "object_position": null,
            "object_fit": null,
            "grid_auto_columns": null,
            "margin": null,
            "display": null,
            "left": null
          }
        },
        "3dff477c067b4f188a33387781af35a0": {
          "model_module": "@jupyter-widgets/controls",
          "model_name": "DescriptionStyleModel",
          "state": {
            "_view_name": "StyleView",
            "_model_name": "DescriptionStyleModel",
            "description_width": "",
            "_view_module": "@jupyter-widgets/base",
            "_model_module_version": "1.5.0",
            "_view_count": null,
            "_view_module_version": "1.2.0",
            "_model_module": "@jupyter-widgets/controls"
          }
        },
        "9232bc7414a7463e820502ab47c99c79": {
          "model_module": "@jupyter-widgets/base",
          "model_name": "LayoutModel",
          "state": {
            "_view_name": "LayoutView",
            "grid_template_rows": null,
            "right": null,
            "justify_content": null,
            "_view_module": "@jupyter-widgets/base",
            "overflow": null,
            "_model_module_version": "1.2.0",
            "_view_count": null,
            "flex_flow": null,
            "width": null,
            "min_width": null,
            "border": null,
            "align_items": null,
            "bottom": null,
            "_model_module": "@jupyter-widgets/base",
            "top": null,
            "grid_column": null,
            "overflow_y": null,
            "overflow_x": null,
            "grid_auto_flow": null,
            "grid_area": null,
            "grid_template_columns": null,
            "flex": null,
            "_model_name": "LayoutModel",
            "justify_items": null,
            "grid_row": null,
            "max_height": null,
            "align_content": null,
            "visibility": null,
            "align_self": null,
            "height": null,
            "min_height": null,
            "padding": null,
            "grid_auto_rows": null,
            "grid_gap": null,
            "max_width": null,
            "order": null,
            "_view_module_version": "1.2.0",
            "grid_template_areas": null,
            "object_position": null,
            "object_fit": null,
            "grid_auto_columns": null,
            "margin": null,
            "display": null,
            "left": null
          }
        }
      }
    }
  },
  "cells": [
    {
      "cell_type": "code",
      "metadata": {
        "id": "is38dNfHH6f0"
      },
      "source": [
        "# Jovian Commit Essentials\n",
        "# Please retain and execute this cell without modifying the contents for `jovian.commit` to work\n",
        "!pip install jovian --upgrade -q\n",
        "import jovian\n",
        "jovian.utils.colab.set_colab_file_id('1-0HlBq7rU-2nLmwOS8iHpN0Ib8CNCK5L')"
      ],
      "execution_count": 7,
      "outputs": []
    },
    {
      "cell_type": "markdown",
      "metadata": {
        "_cell_guid": "b1076dfc-b9ad-4769-8c92-a6c4dae69d19",
        "_uuid": "8f2839f25d086af736a60e9eeb907d3b93b6e0e5",
        "id": "avgdwSmHH6f7"
      },
      "source": [
        "# Insurance cost prediction using linear regression\n",
        "\n",
        "Make a submisson here: https://jovian.ai/learn/deep-learning-with-pytorch-zero-to-gans/assignment/assignment-2-train-your-first-model\n",
        "\n",
        "In this assignment we're going to use information like a person's age, sex, BMI, no. of children and smoking habit to predict the price of yearly medical bills. This kind of model is useful for insurance companies to determine the yearly insurance premium for a person. The dataset for this problem is taken from [Kaggle](https://www.kaggle.com/mirichoi0218/insurance).\n",
        "\n",
        "\n",
        "We will create a model with the following steps:\n",
        "1. Download and explore the dataset\n",
        "2. Prepare the dataset for training\n",
        "3. Create a linear regression model\n",
        "4. Train the model to fit the data\n",
        "5. Make predictions using the trained model\n",
        "\n",
        "\n",
        "\n"
      ]
    },
    {
      "cell_type": "code",
      "metadata": {
        "id": "ixl4jhtoH6f8"
      },
      "source": [
        "# Uncomment and run the appropriate command for your operating system, if required\n",
        "\n",
        "# Linux / Binder\n",
        "# !pip install numpy matplotlib pandas torch==1.7.0+cpu torchvision==0.8.1+cpu torchaudio==0.7.0 -f https://download.pytorch.org/whl/torch_stable.html\n",
        "\n",
        "# Windows\n",
        "# !pip install numpy matplotlib pandas torch==1.7.0+cpu torchvision==0.8.1+cpu torchaudio==0.7.0 -f https://download.pytorch.org/whl/torch_stable.html\n",
        "\n",
        "# MacOS\n",
        "# !pip install numpy matplotlib pandas torch torchvision torchaudio"
      ],
      "execution_count": 8,
      "outputs": []
    },
    {
      "cell_type": "code",
      "metadata": {
        "id": "_ZwQn-L9H6f8"
      },
      "source": [
        "import torch\n",
        "import jovian\n",
        "import torchvision\n",
        "import torch.nn as nn\n",
        "import pandas as pd\n",
        "import matplotlib.pyplot as plt\n",
        "import torch.nn.functional as F\n",
        "from torchvision.datasets.utils import download_url\n",
        "from torch.utils.data import DataLoader, TensorDataset, random_split"
      ],
      "execution_count": 9,
      "outputs": []
    },
    {
      "cell_type": "code",
      "metadata": {
        "id": "_eDINUTKH6f9"
      },
      "source": [
        "project_name='02-insurance-linear-regression' # will be used by jovian.commit"
      ],
      "execution_count": 10,
      "outputs": []
    },
    {
      "cell_type": "markdown",
      "metadata": {
        "id": "E0ZK9l4UH6f9"
      },
      "source": [
        "## Step 1: Download and explore the data\n",
        "\n",
        "Let us begin by downloading the data. We'll use the `download_url` function from PyTorch to get the data as a CSV (comma-separated values) file. "
      ]
    },
    {
      "cell_type": "code",
      "metadata": {
        "_cell_guid": "79c7e3d0-c299-4dcb-8224-4455121ee9b0",
        "_uuid": "d629ff2d2480ee46fbb7e2d37f6b5fab8052498a",
        "colab": {
          "base_uri": "https://localhost:8080/",
          "height": 65,
          "referenced_widgets": [
            "7a3a79522ea44df38fa8210d8386af4a",
            "c61b2abd328d471e8d28a2765b79d864",
            "b7ea4ab773b14d508990b3a210e69070",
            "01bc1008ebbc47bf934a9728e93e6c8e",
            "d682b21283434cafb8273a0676fd1b04",
            "5ee8695623574b5eac0f84cfdbe0c3d1",
            "3dff477c067b4f188a33387781af35a0",
            "9232bc7414a7463e820502ab47c99c79"
          ]
        },
        "id": "jWabt4zZH6f9",
        "outputId": "af8ea012-7ae2-4eaa-956f-103e9377677d"
      },
      "source": [
        "DATASET_URL = \"https://hub.jovian.ml/wp-content/uploads/2020/05/insurance.csv\"\n",
        "DATA_FILENAME = \"insurance.csv\"\n",
        "download_url(DATASET_URL, '.')"
      ],
      "execution_count": 11,
      "outputs": [
        {
          "output_type": "stream",
          "text": [
            "Downloading https://hub.jovian.ml/wp-content/uploads/2020/05/insurance.csv to ./insurance.csv\n"
          ],
          "name": "stdout"
        },
        {
          "output_type": "display_data",
          "data": {
            "application/vnd.jupyter.widget-view+json": {
              "model_id": "7a3a79522ea44df38fa8210d8386af4a",
              "version_minor": 0,
              "version_major": 2
            },
            "text/plain": [
              "HBox(children=(FloatProgress(value=1.0, bar_style='info', max=1.0), HTML(value='')))"
            ]
          },
          "metadata": {
            "tags": []
          }
        }
      ]
    },
    {
      "cell_type": "markdown",
      "metadata": {
        "id": "OICbaWqIH6f-"
      },
      "source": [
        "To load the dataset into memory, we'll use the `read_csv` function from the `pandas` library. The data will be loaded as a Pandas dataframe. See this short tutorial to learn more: https://data36.com/pandas-tutorial-1-basics-reading-data-files-dataframes-data-selection/"
      ]
    },
    {
      "cell_type": "code",
      "metadata": {
        "colab": {
          "base_uri": "https://localhost:8080/",
          "height": 196
        },
        "id": "tA_8xAFdH6f_",
        "outputId": "791be533-694a-48cb-97fe-b34e2ff8d9af"
      },
      "source": [
        "dataframe_raw = pd.read_csv(DATA_FILENAME)\n",
        "dataframe_raw.head()"
      ],
      "execution_count": 12,
      "outputs": [
        {
          "output_type": "execute_result",
          "data": {
            "text/html": [
              "<div>\n",
              "<style scoped>\n",
              "    .dataframe tbody tr th:only-of-type {\n",
              "        vertical-align: middle;\n",
              "    }\n",
              "\n",
              "    .dataframe tbody tr th {\n",
              "        vertical-align: top;\n",
              "    }\n",
              "\n",
              "    .dataframe thead th {\n",
              "        text-align: right;\n",
              "    }\n",
              "</style>\n",
              "<table border=\"1\" class=\"dataframe\">\n",
              "  <thead>\n",
              "    <tr style=\"text-align: right;\">\n",
              "      <th></th>\n",
              "      <th>age</th>\n",
              "      <th>sex</th>\n",
              "      <th>bmi</th>\n",
              "      <th>children</th>\n",
              "      <th>smoker</th>\n",
              "      <th>region</th>\n",
              "      <th>charges</th>\n",
              "    </tr>\n",
              "  </thead>\n",
              "  <tbody>\n",
              "    <tr>\n",
              "      <th>0</th>\n",
              "      <td>19</td>\n",
              "      <td>female</td>\n",
              "      <td>27.900</td>\n",
              "      <td>0</td>\n",
              "      <td>yes</td>\n",
              "      <td>southwest</td>\n",
              "      <td>16884.92400</td>\n",
              "    </tr>\n",
              "    <tr>\n",
              "      <th>1</th>\n",
              "      <td>18</td>\n",
              "      <td>male</td>\n",
              "      <td>33.770</td>\n",
              "      <td>1</td>\n",
              "      <td>no</td>\n",
              "      <td>southeast</td>\n",
              "      <td>1725.55230</td>\n",
              "    </tr>\n",
              "    <tr>\n",
              "      <th>2</th>\n",
              "      <td>28</td>\n",
              "      <td>male</td>\n",
              "      <td>33.000</td>\n",
              "      <td>3</td>\n",
              "      <td>no</td>\n",
              "      <td>southeast</td>\n",
              "      <td>4449.46200</td>\n",
              "    </tr>\n",
              "    <tr>\n",
              "      <th>3</th>\n",
              "      <td>33</td>\n",
              "      <td>male</td>\n",
              "      <td>22.705</td>\n",
              "      <td>0</td>\n",
              "      <td>no</td>\n",
              "      <td>northwest</td>\n",
              "      <td>21984.47061</td>\n",
              "    </tr>\n",
              "    <tr>\n",
              "      <th>4</th>\n",
              "      <td>32</td>\n",
              "      <td>male</td>\n",
              "      <td>28.880</td>\n",
              "      <td>0</td>\n",
              "      <td>no</td>\n",
              "      <td>northwest</td>\n",
              "      <td>3866.85520</td>\n",
              "    </tr>\n",
              "  </tbody>\n",
              "</table>\n",
              "</div>"
            ],
            "text/plain": [
              "   age     sex     bmi  children smoker     region      charges\n",
              "0   19  female  27.900         0    yes  southwest  16884.92400\n",
              "1   18    male  33.770         1     no  southeast   1725.55230\n",
              "2   28    male  33.000         3     no  southeast   4449.46200\n",
              "3   33    male  22.705         0     no  northwest  21984.47061\n",
              "4   32    male  28.880         0     no  northwest   3866.85520"
            ]
          },
          "metadata": {
            "tags": []
          },
          "execution_count": 12
        }
      ]
    },
    {
      "cell_type": "markdown",
      "metadata": {
        "id": "B0BiB8mpH6f_"
      },
      "source": [
        "We're going to do a slight customization of the data, so that you every participant receives a slightly different version of the dataset. Fill in your name below as a string (enter at least 5 characters)"
      ]
    },
    {
      "cell_type": "code",
      "metadata": {
        "id": "3Ro12HC_H6f_"
      },
      "source": [
        "your_name = 'Pranav' # at least 5 characters"
      ],
      "execution_count": 13,
      "outputs": []
    },
    {
      "cell_type": "markdown",
      "metadata": {
        "id": "EtSQ7HoeH6f_"
      },
      "source": [
        "The `customize_dataset` function will customize the dataset slightly using your name as a source of random numbers."
      ]
    },
    {
      "cell_type": "code",
      "metadata": {
        "id": "9xt6B-46H6gA"
      },
      "source": [
        "def customize_dataset(dataframe_raw, rand_str):\n",
        "    dataframe = dataframe_raw.copy(deep=True)\n",
        "    # drop some rows\n",
        "    dataframe = dataframe.sample(int(0.95*len(dataframe)), random_state=int(ord(rand_str[0])))\n",
        "    # scale input\n",
        "    dataframe.bmi = dataframe.bmi * ord(rand_str[1])/100.\n",
        "    # scale target\n",
        "    dataframe.charges = dataframe.charges * ord(rand_str[2])/100.\n",
        "    # drop column\n",
        "    if ord(rand_str[3]) % 2 == 1:\n",
        "        dataframe = dataframe.drop(['region'], axis=1)\n",
        "    return dataframe"
      ],
      "execution_count": 14,
      "outputs": []
    },
    {
      "cell_type": "code",
      "metadata": {
        "colab": {
          "base_uri": "https://localhost:8080/",
          "height": 196
        },
        "id": "Cu0w4b62H6gA",
        "outputId": "6c15c69c-cd7d-46b7-ae8a-35d486647d87"
      },
      "source": [
        "dataframe = customize_dataset(dataframe_raw, your_name)\n",
        "dataframe.head()"
      ],
      "execution_count": 15,
      "outputs": [
        {
          "output_type": "execute_result",
          "data": {
            "text/html": [
              "<div>\n",
              "<style scoped>\n",
              "    .dataframe tbody tr th:only-of-type {\n",
              "        vertical-align: middle;\n",
              "    }\n",
              "\n",
              "    .dataframe tbody tr th {\n",
              "        vertical-align: top;\n",
              "    }\n",
              "\n",
              "    .dataframe thead th {\n",
              "        text-align: right;\n",
              "    }\n",
              "</style>\n",
              "<table border=\"1\" class=\"dataframe\">\n",
              "  <thead>\n",
              "    <tr style=\"text-align: right;\">\n",
              "      <th></th>\n",
              "      <th>age</th>\n",
              "      <th>sex</th>\n",
              "      <th>bmi</th>\n",
              "      <th>children</th>\n",
              "      <th>smoker</th>\n",
              "      <th>region</th>\n",
              "      <th>charges</th>\n",
              "    </tr>\n",
              "  </thead>\n",
              "  <tbody>\n",
              "    <tr>\n",
              "      <th>240</th>\n",
              "      <td>23</td>\n",
              "      <td>female</td>\n",
              "      <td>41.8038</td>\n",
              "      <td>2</td>\n",
              "      <td>yes</td>\n",
              "      <td>northeast</td>\n",
              "      <td>37356.279451</td>\n",
              "    </tr>\n",
              "    <tr>\n",
              "      <th>651</th>\n",
              "      <td>53</td>\n",
              "      <td>female</td>\n",
              "      <td>45.1440</td>\n",
              "      <td>1</td>\n",
              "      <td>no</td>\n",
              "      <td>southeast</td>\n",
              "      <td>10262.319670</td>\n",
              "    </tr>\n",
              "    <tr>\n",
              "      <th>761</th>\n",
              "      <td>23</td>\n",
              "      <td>male</td>\n",
              "      <td>40.1280</td>\n",
              "      <td>1</td>\n",
              "      <td>no</td>\n",
              "      <td>southwest</td>\n",
              "      <td>2344.446350</td>\n",
              "    </tr>\n",
              "    <tr>\n",
              "      <th>836</th>\n",
              "      <td>36</td>\n",
              "      <td>male</td>\n",
              "      <td>35.9100</td>\n",
              "      <td>0</td>\n",
              "      <td>no</td>\n",
              "      <td>southwest</td>\n",
              "      <td>4270.166010</td>\n",
              "    </tr>\n",
              "    <tr>\n",
              "      <th>1147</th>\n",
              "      <td>20</td>\n",
              "      <td>female</td>\n",
              "      <td>36.3888</td>\n",
              "      <td>0</td>\n",
              "      <td>no</td>\n",
              "      <td>northwest</td>\n",
              "      <td>2193.721736</td>\n",
              "    </tr>\n",
              "  </tbody>\n",
              "</table>\n",
              "</div>"
            ],
            "text/plain": [
              "      age     sex      bmi  children smoker     region       charges\n",
              "240    23  female  41.8038         2    yes  northeast  37356.279451\n",
              "651    53  female  45.1440         1     no  southeast  10262.319670\n",
              "761    23    male  40.1280         1     no  southwest   2344.446350\n",
              "836    36    male  35.9100         0     no  southwest   4270.166010\n",
              "1147   20  female  36.3888         0     no  northwest   2193.721736"
            ]
          },
          "metadata": {
            "tags": []
          },
          "execution_count": 15
        }
      ]
    },
    {
      "cell_type": "markdown",
      "metadata": {
        "id": "nks2Q4frH6gA"
      },
      "source": [
        "Let us answer some basic questions about the dataset. \n",
        "\n",
        "\n",
        "**Q: How many rows does the dataset have?**"
      ]
    },
    {
      "cell_type": "code",
      "metadata": {
        "colab": {
          "base_uri": "https://localhost:8080/"
        },
        "id": "xygEOMd-H6gA",
        "outputId": "9cfed84f-8a5a-4b89-ecd2-e3cfd77a65f0"
      },
      "source": [
        "num_rows = dataframe.shape[0]\n",
        "print(num_rows)"
      ],
      "execution_count": 16,
      "outputs": [
        {
          "output_type": "stream",
          "text": [
            "1271\n"
          ],
          "name": "stdout"
        }
      ]
    },
    {
      "cell_type": "markdown",
      "metadata": {
        "id": "KaUuMWQJH6gA"
      },
      "source": [
        "**Q: How many columns doe the dataset have**"
      ]
    },
    {
      "cell_type": "code",
      "metadata": {
        "colab": {
          "base_uri": "https://localhost:8080/"
        },
        "id": "B4yTp7xDH6gB",
        "outputId": "1a7ae5de-4cde-44e1-f495-e7e0e9bcd822"
      },
      "source": [
        "num_cols = dataframe.shape[1]\n",
        "print(num_cols)"
      ],
      "execution_count": 17,
      "outputs": [
        {
          "output_type": "stream",
          "text": [
            "7\n"
          ],
          "name": "stdout"
        }
      ]
    },
    {
      "cell_type": "markdown",
      "metadata": {
        "id": "1mZ5g_nbH6gB"
      },
      "source": [
        "**Q: What are the column titles of the input variables?**"
      ]
    },
    {
      "cell_type": "code",
      "metadata": {
        "id": "BwuD590GH6gB"
      },
      "source": [
        "input_cols = ['age','sex','bmi','smoker','children']"
      ],
      "execution_count": 18,
      "outputs": []
    },
    {
      "cell_type": "markdown",
      "metadata": {
        "id": "-RuAG5JaH6gB"
      },
      "source": [
        "**Q: Which of the input columns are non-numeric or categorial variables ?**\n",
        "\n",
        "Hint: `sex` is one of them. List the columns that are not numbers."
      ]
    },
    {
      "cell_type": "code",
      "metadata": {
        "id": "3GRUgL-EH6gB"
      },
      "source": [
        "categorical_cols = ['sex','smoker','region']"
      ],
      "execution_count": 19,
      "outputs": []
    },
    {
      "cell_type": "markdown",
      "metadata": {
        "id": "t37GS5AlH6gB"
      },
      "source": [
        "**Q: What are the column titles of output/target variable(s)?**"
      ]
    },
    {
      "cell_type": "code",
      "metadata": {
        "id": "lnUeqdABH6gB"
      },
      "source": [
        "output_cols = ['charges']"
      ],
      "execution_count": 20,
      "outputs": []
    },
    {
      "cell_type": "markdown",
      "metadata": {
        "id": "DIE191XPH6gC"
      },
      "source": [
        "**Q: (Optional) What is the minimum, maximum and average value of the `charges` column? Can you show the distribution of values in a graph?**\n",
        "Use this data visualization cheatsheet for referece: https://jovian.ml/aakashns/dataviz-cheatsheet"
      ]
    },
    {
      "cell_type": "code",
      "metadata": {
        "colab": {
          "base_uri": "https://localhost:8080/"
        },
        "id": "w4tJ1YUeH6gC",
        "outputId": "b5a0af07-c41c-45d6-95d6-6679351fc9f0"
      },
      "source": [
        "print(\"Minimum value of the charges column is {} \".format(dataframe['charges'].min()))\r\n",
        "print(\"Maximum value of the charges column is {} \".format(dataframe['charges'].max()))\r\n",
        "print(\"Average value of the charges column is {} \".format(dataframe['charges'].mean()))# Write your answer here"
      ],
      "execution_count": 21,
      "outputs": [
        {
          "output_type": "stream",
          "text": [
            "Minimum value of the charges column is 1088.217683 \n",
            "Maximum value of the charges column is 61857.3151697 \n",
            "Average value of the charges column is 12972.222715690816 \n"
          ],
          "name": "stdout"
        }
      ]
    },
    {
      "cell_type": "code",
      "metadata": {
        "id": "Om8UzzjTLps1"
      },
      "source": [],
      "execution_count": 25,
      "outputs": []
    },
    {
      "cell_type": "markdown",
      "metadata": {
        "id": "Q3GWp6jkH6gC"
      },
      "source": []
    },
    {
      "cell_type": "markdown",
      "metadata": {
        "id": "opxCkb74H6gD"
      },
      "source": [
        "## Step 2: Prepare the dataset for training\n",
        "\n",
        "We need to convert the data from the Pandas dataframe into a PyTorch tensors for training. To do this, the first step is to convert it numpy arrays. If you've filled out `input_cols`, `categorial_cols` and `output_cols` correctly, this following function will perform the conversion to numpy arrays."
      ]
    },
    {
      "cell_type": "code",
      "metadata": {
        "id": "kzZrJu9pH6gD"
      },
      "source": [
        "def dataframe_to_arrays(dataframe):\n",
        "    # Make a copy of the original dataframe\n",
        "    dataframe1 = dataframe.copy(deep=True)\n",
        "    # Convert non-numeric categorical columns to numbers\n",
        "    for col in categorical_cols:\n",
        "        dataframe1[col] = dataframe1[col].astype('category').cat.codes\n",
        "    # Extract input & outupts as numpy arrays\n",
        "    inputs_array = dataframe1[input_cols].to_numpy()\n",
        "    targets_array = dataframe1[output_cols].to_numpy()\n",
        "    return inputs_array, targets_array"
      ],
      "execution_count": 32,
      "outputs": []
    },
    {
      "cell_type": "markdown",
      "metadata": {
        "id": "aG3NnTodH6gE"
      },
      "source": [
        "Read through the [Pandas documentation](https://pandas.pydata.org/pandas-docs/stable/user_guide/categorical.html) to understand how we're converting categorical variables into numbers."
      ]
    },
    {
      "cell_type": "code",
      "metadata": {
        "id": "6tYBnCv4H6gE",
        "colab": {
          "base_uri": "https://localhost:8080/"
        },
        "outputId": "e5862acc-0d2e-452e-848d-0370c55a3282"
      },
      "source": [
        "inputs_array, targets_array = dataframe_to_arrays(dataframe)\n",
        "inputs_array, targets_array"
      ],
      "execution_count": 34,
      "outputs": [
        {
          "output_type": "execute_result",
          "data": {
            "text/plain": [
              "(array([[23.    ,  0.    , 41.8038,  1.    ,  2.    ],\n",
              "        [53.    ,  0.    , 45.144 ,  0.    ,  1.    ],\n",
              "        [23.    ,  1.    , 40.128 ,  0.    ,  1.    ],\n",
              "        ...,\n",
              "        [59.    ,  0.    , 41.9121,  1.    ,  1.    ],\n",
              "        [53.    ,  0.    , 37.905 ,  0.    ,  0.    ],\n",
              "        [48.    ,  0.    , 37.9962,  0.    ,  0.    ]]),\n",
              " array([[37356.279451 ],\n",
              "        [10262.31967  ],\n",
              "        [ 2344.44635  ],\n",
              "        ...,\n",
              "        [46459.8876095],\n",
              "        [10247.937965 ],\n",
              "        [ 8035.170279 ]]))"
            ]
          },
          "metadata": {
            "tags": []
          },
          "execution_count": 34
        }
      ]
    },
    {
      "cell_type": "markdown",
      "metadata": {
        "id": "Q3NE9OkPH6gE"
      },
      "source": [
        "**Q: Convert the numpy arrays `inputs_array` and `targets_array` into PyTorch tensors. Make sure that the data type is `torch.float32`.**"
      ]
    },
    {
      "cell_type": "code",
      "metadata": {
        "id": "Utg5d0r7H6gE"
      },
      "source": [
        "inputs = torch.from_numpy(inputs_array).float()\n",
        "targets = torch.from_numpy(targets_array).float()"
      ],
      "execution_count": 36,
      "outputs": []
    },
    {
      "cell_type": "code",
      "metadata": {
        "id": "FlNRpPxIH6gF",
        "colab": {
          "base_uri": "https://localhost:8080/"
        },
        "outputId": "32007a84-7e2d-4139-b0ba-841f55a9b9cf"
      },
      "source": [
        "inputs.dtype, targets.dtype"
      ],
      "execution_count": 37,
      "outputs": [
        {
          "output_type": "execute_result",
          "data": {
            "text/plain": [
              "(torch.float32, torch.float32)"
            ]
          },
          "metadata": {
            "tags": []
          },
          "execution_count": 37
        }
      ]
    },
    {
      "cell_type": "markdown",
      "metadata": {
        "id": "vXHElwEKH6gF"
      },
      "source": [
        "Next, we need to create PyTorch datasets & data loaders for training & validation. We'll start by creating a `TensorDataset`."
      ]
    },
    {
      "cell_type": "code",
      "metadata": {
        "id": "MZzPiitjH6gF"
      },
      "source": [
        "dataset = TensorDataset(inputs, targets)"
      ],
      "execution_count": 39,
      "outputs": []
    },
    {
      "cell_type": "markdown",
      "metadata": {
        "id": "yD-0TfOtH6gF"
      },
      "source": [
        "**Q: Pick a number between `0.1` and `0.2` to determine the fraction of data that will be used for creating the validation set. Then use `random_split` to create training & validation datasets.**"
      ]
    },
    {
      "cell_type": "code",
      "metadata": {
        "id": "sbxpcR3vH6gF"
      },
      "source": [
        "val_percent = 0.15 # between 0.1 and 0.2\n",
        "val_size = int(num_rows * val_percent)\n",
        "train_size = num_rows - val_size\n",
        "\n",
        "\n",
        "train_ds, val_ds = random_split(dataset,[train_size,val_size]) # Use the random_split function to split dataset into 2 parts of the desired length"
      ],
      "execution_count": 40,
      "outputs": []
    },
    {
      "cell_type": "markdown",
      "metadata": {
        "id": "wL6mFEqtH6gF"
      },
      "source": [
        "Finally, we can create data loaders for training & validation.\n",
        "\n",
        "**Q: Pick a batch size for the data loader.**"
      ]
    },
    {
      "cell_type": "code",
      "metadata": {
        "id": "E6Eut85yH6gG"
      },
      "source": [
        "batch_size = 12"
      ],
      "execution_count": 41,
      "outputs": []
    },
    {
      "cell_type": "code",
      "metadata": {
        "id": "nPlnGS6hH6gG"
      },
      "source": [
        "train_loader = DataLoader(train_ds, batch_size, shuffle=True)\n",
        "val_loader = DataLoader(val_ds, batch_size)"
      ],
      "execution_count": 42,
      "outputs": []
    },
    {
      "cell_type": "markdown",
      "metadata": {
        "id": "BieqZqyQH6gG"
      },
      "source": [
        "Let's look at a batch of data to verify everything is working fine so far."
      ]
    },
    {
      "cell_type": "code",
      "metadata": {
        "id": "yCZusBppH6gG",
        "colab": {
          "base_uri": "https://localhost:8080/"
        },
        "outputId": "f772ae5e-48ff-4b43-90ab-b020dfbe5e40"
      },
      "source": [
        "for xb, yb in train_loader:\n",
        "    print(\"inputs:\", xb)\n",
        "    print(\"targets:\", yb)\n",
        "    break"
      ],
      "execution_count": 43,
      "outputs": [
        {
          "output_type": "stream",
          "text": [
            "inputs: tensor([[40.0000,  1.0000, 28.5912,  0.0000,  0.0000],\n",
            "        [27.0000,  1.0000, 52.3260,  0.0000,  2.0000],\n",
            "        [42.0000,  0.0000, 30.3240,  1.0000,  0.0000],\n",
            "        [24.0000,  0.0000, 31.6008,  0.0000,  0.0000],\n",
            "        [34.0000,  1.0000, 24.3675,  0.0000,  0.0000],\n",
            "        [39.0000,  1.0000, 33.7440,  0.0000,  4.0000],\n",
            "        [44.0000,  0.0000, 31.3500,  0.0000,  1.0000],\n",
            "        [47.0000,  1.0000, 44.3916,  1.0000,  2.0000],\n",
            "        [38.0000,  1.0000, 19.1691,  0.0000,  2.0000],\n",
            "        [29.0000,  0.0000, 44.2662,  0.0000,  3.0000],\n",
            "        [59.0000,  1.0000, 33.8580,  0.0000,  2.0000],\n",
            "        [46.0000,  1.0000, 48.2790,  1.0000,  3.0000]])\n",
            "targets: tensor([[ 5253.1914],\n",
            "        [ 3582.6252],\n",
            "        [20708.2441],\n",
            "        [ 2390.6802],\n",
            "        [ 4365.3291],\n",
            "        [ 7286.8989],\n",
            "        [ 7398.1831],\n",
            "        [42876.5742],\n",
            "        [ 6441.3286],\n",
            "        [ 4984.1089],\n",
            "        [12538.1094],\n",
            "        [44766.5898]])\n"
          ],
          "name": "stdout"
        }
      ]
    },
    {
      "cell_type": "markdown",
      "metadata": {
        "id": "Qa9wf79QH6gG"
      },
      "source": [
        "Let's save our work by committing to Jovian."
      ]
    },
    {
      "cell_type": "code",
      "metadata": {
        "id": "mSM3OfV0H6gG",
        "colab": {
          "base_uri": "https://localhost:8080/",
          "height": 118
        },
        "outputId": "12976bbb-363a-4318-99c5-c38a3efddc53"
      },
      "source": [
        "jovian.commit(project=project_name, environment=None)"
      ],
      "execution_count": 44,
      "outputs": [
        {
          "output_type": "stream",
          "text": [
            "[jovian] Detected Colab notebook...\u001b[0m\n",
            "[jovian] Please enter your API key ( from https://jovian.ai/ ):\u001b[0m\n",
            "API KEY: ··········\n",
            "[jovian] Uploading colab notebook to Jovian...\u001b[0m\n",
            "[jovian] Committed successfully! https://jovian.ai/pranavrnambiar/02-insurance-linear-regression\u001b[0m\n"
          ],
          "name": "stdout"
        },
        {
          "output_type": "execute_result",
          "data": {
            "application/vnd.google.colaboratory.intrinsic+json": {
              "type": "string"
            },
            "text/plain": [
              "'https://jovian.ai/pranavrnambiar/02-insurance-linear-regression'"
            ]
          },
          "metadata": {
            "tags": []
          },
          "execution_count": 44
        }
      ]
    },
    {
      "cell_type": "markdown",
      "metadata": {
        "id": "JDd9MMZ4H6gG"
      },
      "source": [
        "## Step 3: Create a Linear Regression Model\n",
        "\n",
        "Our model itself is a fairly straightforward linear regression (we'll build more complex models in the next assignment). \n"
      ]
    },
    {
      "cell_type": "code",
      "metadata": {
        "id": "s28_hXWIH6gG"
      },
      "source": [
        "input_size = len(input_cols)\n",
        "output_size = len(output_cols)"
      ],
      "execution_count": 47,
      "outputs": []
    },
    {
      "cell_type": "markdown",
      "metadata": {
        "id": "wt6YBSDfH6gH"
      },
      "source": [
        "**Q: Complete the class definition below by filling out the constructor (`__init__`), `forward`, `training_step` and `validation_step` methods.**\n",
        "\n",
        "Hint: Think carefully about picking a good loss fuction (it's not cross entropy). Maybe try 2-3 of them and see which one works best. See https://pytorch.org/docs/stable/nn.functional.html#loss-functions"
      ]
    },
    {
      "cell_type": "code",
      "metadata": {
        "id": "44ZFaUPsH6gH"
      },
      "source": [
        "class InsuranceModel(nn.Module):\n",
        "    def __init__(self):\n",
        "        super().__init__()\n",
        "        self.linear = nn.Linear(input_size, output_size)              # fill this (hint: use input_size & output_size defined above)\n",
        "        \n",
        "    def forward(self, xb):\n",
        "        out = self.linear(xb)                        # fill this\n",
        "        return out\n",
        "    \n",
        "    def training_step(self, batch):\n",
        "        inputs, targets = batch \n",
        "        # Generate predictions\n",
        "        out = self(inputs)          \n",
        "        # Calcuate loss\n",
        "        loss = F.l1_loss(out, targets)                        # fill this\n",
        "        return loss\n",
        "    \n",
        "    def validation_step(self, batch):\n",
        "        inputs, targets = batch\n",
        "        # Generate predictions\n",
        "        out = self(inputs)\n",
        "        # Calculate loss\n",
        "        loss = F.l1_loss(out, targets)                          # fill this    \n",
        "        return {'val_loss': loss.detach()}\n",
        "        \n",
        "    def validation_epoch_end(self, outputs):\n",
        "        batch_losses = [x['val_loss'] for x in outputs]\n",
        "        epoch_loss = torch.stack(batch_losses).mean()   # Combine losses\n",
        "        return {'val_loss': epoch_loss.item()}\n",
        "    \n",
        "    def epoch_end(self, epoch, result, num_epochs):\n",
        "        # Print result every 20th epoch\n",
        "        if (epoch+1) % 20 == 0 or epoch == num_epochs-1:\n",
        "            print(\"Epoch [{}], val_loss: {:.4f}\".format(epoch+1, result['val_loss']))"
      ],
      "execution_count": 48,
      "outputs": []
    },
    {
      "cell_type": "markdown",
      "metadata": {
        "id": "lAsv5yHZH6gH"
      },
      "source": [
        "Let us create a model using the `InsuranceModel` class. You may need to come back later and re-run the next cell to reinitialize the model, in case the loss becomes `nan` or `infinity`."
      ]
    },
    {
      "cell_type": "code",
      "metadata": {
        "id": "vvxIEfocH6gI",
        "colab": {
          "base_uri": "https://localhost:8080/"
        },
        "outputId": "19014041-fe53-4822-b903-547e5afc96f6"
      },
      "source": [
        "model = InsuranceModel()\r\n",
        "model"
      ],
      "execution_count": 52,
      "outputs": [
        {
          "output_type": "execute_result",
          "data": {
            "text/plain": [
              "InsuranceModel(\n",
              "  (linear): Linear(in_features=5, out_features=1, bias=True)\n",
              ")"
            ]
          },
          "metadata": {
            "tags": []
          },
          "execution_count": 52
        }
      ]
    },
    {
      "cell_type": "markdown",
      "metadata": {
        "id": "uyxByZKzH6gJ"
      },
      "source": [
        "Let's check out the weights and biases of the model using `model.parameters`."
      ]
    },
    {
      "cell_type": "code",
      "metadata": {
        "id": "veSpUvT4H6gJ",
        "colab": {
          "base_uri": "https://localhost:8080/"
        },
        "outputId": "85dd7f37-780b-45f2-e37c-d27b83542bfa"
      },
      "source": [
        "list(model.parameters())"
      ],
      "execution_count": 50,
      "outputs": [
        {
          "output_type": "execute_result",
          "data": {
            "text/plain": [
              "[Parameter containing:\n",
              " tensor([[-0.3715, -0.1492, -0.0865,  0.2777, -0.2649]], requires_grad=True),\n",
              " Parameter containing:\n",
              " tensor([0.2380], requires_grad=True)]"
            ]
          },
          "metadata": {
            "tags": []
          },
          "execution_count": 50
        }
      ]
    },
    {
      "cell_type": "markdown",
      "metadata": {
        "id": "NMKBN4yvH6gJ"
      },
      "source": [
        "One final commit before we train the model."
      ]
    },
    {
      "cell_type": "code",
      "metadata": {
        "id": "Zrb68iDQH6gJ",
        "colab": {
          "base_uri": "https://localhost:8080/",
          "height": 85
        },
        "outputId": "ef0bbdc6-9b48-45b4-fefd-20b2c1f33019"
      },
      "source": [
        "jovian.commit(project=project_name, environment=None)"
      ],
      "execution_count": 51,
      "outputs": [
        {
          "output_type": "stream",
          "text": [
            "[jovian] Detected Colab notebook...\u001b[0m\n",
            "[jovian] Uploading colab notebook to Jovian...\u001b[0m\n",
            "[jovian] Committed successfully! https://jovian.ai/pranavrnambiar/02-insurance-linear-regression\u001b[0m\n"
          ],
          "name": "stdout"
        },
        {
          "output_type": "execute_result",
          "data": {
            "application/vnd.google.colaboratory.intrinsic+json": {
              "type": "string"
            },
            "text/plain": [
              "'https://jovian.ai/pranavrnambiar/02-insurance-linear-regression'"
            ]
          },
          "metadata": {
            "tags": []
          },
          "execution_count": 51
        }
      ]
    },
    {
      "cell_type": "markdown",
      "metadata": {
        "id": "PZpH1Wz9H6gK"
      },
      "source": [
        "## Step 4: Train the model to fit the data\n",
        "\n",
        "To train our model, we'll use the same `fit` function explained in the lecture. That's the benefit of defining a generic training loop - you can use it for any problem."
      ]
    },
    {
      "cell_type": "code",
      "metadata": {
        "id": "2NC3xQYMH6gK"
      },
      "source": [
        "def evaluate(model, val_loader):\n",
        "    outputs = [model.validation_step(batch) for batch in val_loader]\n",
        "    return model.validation_epoch_end(outputs)\n",
        "\n",
        "def fit(epochs, lr, model, train_loader, val_loader, opt_func=torch.optim.SGD):\n",
        "    history = []\n",
        "    optimizer = opt_func(model.parameters(), lr)\n",
        "    for epoch in range(epochs):\n",
        "        # Training Phase \n",
        "        for batch in train_loader:\n",
        "            loss = model.training_step(batch)\n",
        "            loss.backward()\n",
        "            optimizer.step()\n",
        "            optimizer.zero_grad()\n",
        "        # Validation phase\n",
        "        result = evaluate(model, val_loader)\n",
        "        model.epoch_end(epoch, result, epochs)\n",
        "        history.append(result)\n",
        "    return history"
      ],
      "execution_count": 56,
      "outputs": []
    },
    {
      "cell_type": "markdown",
      "metadata": {
        "id": "uR3W6ynLH6gK"
      },
      "source": [
        "**Q: Use the `evaluate` function to calculate the loss on the validation set before training.**"
      ]
    },
    {
      "cell_type": "code",
      "metadata": {
        "id": "X6pv1EYWH6gK",
        "colab": {
          "base_uri": "https://localhost:8080/"
        },
        "outputId": "12729e6c-7945-41eb-948b-b4d66be84248"
      },
      "source": [
        "result =evaluate(model, val_loader)  # Use the the evaluate function\n",
        "print(result)"
      ],
      "execution_count": 58,
      "outputs": [
        {
          "output_type": "stream",
          "text": [
            "{'val_loss': 12782.7705078125}\n"
          ],
          "name": "stdout"
        }
      ]
    },
    {
      "cell_type": "markdown",
      "metadata": {
        "id": "UY46gZlEH6gK"
      },
      "source": [
        "\n",
        "We are now ready to train the model. You may need to run the training loop many times, for different number of epochs and with different learning rates, to get a good result. Also, if your loss becomes too large (or `nan`), you may have to re-initialize the model by running the cell `model = InsuranceModel()`. Experiment with this for a while, and try to get to as low a loss as possible."
      ]
    },
    {
      "cell_type": "markdown",
      "metadata": {
        "id": "LkhnDVQuH6gK"
      },
      "source": [
        "**Q: Train the model 4-5 times with different learning rates & for different number of epochs.**\n",
        "\n",
        "Hint: Vary learning rates by orders of 10 (e.g. `1e-2`, `1e-3`, `1e-4`, `1e-5`, `1e-6`) to figure out what works."
      ]
    },
    {
      "cell_type": "code",
      "metadata": {
        "id": "qCrJMwaQH6gK",
        "colab": {
          "base_uri": "https://localhost:8080/"
        },
        "outputId": "54951347-6016-45eb-de8f-1aed9c0a263f"
      },
      "source": [
        "epochs = 1000\n",
        "lr = 1e-1\n",
        "history1 = fit(epochs, lr, model, train_loader, val_loader)"
      ],
      "execution_count": 59,
      "outputs": [
        {
          "output_type": "stream",
          "text": [
            "Epoch [20], val_loss: 6546.7388\n",
            "Epoch [40], val_loss: 6515.2285\n",
            "Epoch [60], val_loss: 6515.0977\n",
            "Epoch [80], val_loss: 6507.5952\n",
            "Epoch [100], val_loss: 6547.8931\n",
            "Epoch [120], val_loss: 6526.0581\n",
            "Epoch [140], val_loss: 6451.8608\n",
            "Epoch [160], val_loss: 6440.4165\n",
            "Epoch [180], val_loss: 6443.3413\n",
            "Epoch [200], val_loss: 6447.9771\n",
            "Epoch [220], val_loss: 6414.0420\n",
            "Epoch [240], val_loss: 6421.2275\n",
            "Epoch [260], val_loss: 6388.2705\n",
            "Epoch [280], val_loss: 6456.0591\n",
            "Epoch [300], val_loss: 6409.4023\n",
            "Epoch [320], val_loss: 6388.5254\n",
            "Epoch [340], val_loss: 6353.7988\n",
            "Epoch [360], val_loss: 6376.8511\n",
            "Epoch [380], val_loss: 6359.0591\n",
            "Epoch [400], val_loss: 6333.4658\n",
            "Epoch [420], val_loss: 6422.1748\n",
            "Epoch [440], val_loss: 6331.6948\n",
            "Epoch [460], val_loss: 6383.9531\n",
            "Epoch [480], val_loss: 6297.5566\n",
            "Epoch [500], val_loss: 6293.7788\n",
            "Epoch [520], val_loss: 6279.5698\n",
            "Epoch [540], val_loss: 6294.1235\n",
            "Epoch [560], val_loss: 6307.8506\n",
            "Epoch [580], val_loss: 6268.8496\n",
            "Epoch [600], val_loss: 6289.6479\n",
            "Epoch [620], val_loss: 6244.2202\n",
            "Epoch [640], val_loss: 6232.5698\n",
            "Epoch [660], val_loss: 6243.9155\n",
            "Epoch [680], val_loss: 6249.8276\n",
            "Epoch [700], val_loss: 6209.3418\n",
            "Epoch [720], val_loss: 6237.7881\n",
            "Epoch [740], val_loss: 6229.7446\n",
            "Epoch [760], val_loss: 6186.3926\n",
            "Epoch [780], val_loss: 6203.4346\n",
            "Epoch [800], val_loss: 6195.3413\n",
            "Epoch [820], val_loss: 6221.2324\n",
            "Epoch [840], val_loss: 6180.1504\n",
            "Epoch [860], val_loss: 6153.8672\n",
            "Epoch [880], val_loss: 6144.0645\n",
            "Epoch [900], val_loss: 6141.8213\n",
            "Epoch [920], val_loss: 6150.9390\n",
            "Epoch [940], val_loss: 6118.3579\n",
            "Epoch [960], val_loss: 6116.2153\n",
            "Epoch [980], val_loss: 6229.4429\n",
            "Epoch [1000], val_loss: 6119.1685\n"
          ],
          "name": "stdout"
        }
      ]
    },
    {
      "cell_type": "code",
      "metadata": {
        "id": "DQz4pDhAH6gL",
        "colab": {
          "base_uri": "https://localhost:8080/"
        },
        "outputId": "24edc442-efff-448d-f837-69cf946b6a10"
      },
      "source": [
        "epochs = 1000\n",
        "lr = 1e-1\n",
        "history2 = fit(epochs, lr, model, train_loader, val_loader)"
      ],
      "execution_count": 60,
      "outputs": [
        {
          "output_type": "stream",
          "text": [
            "Epoch [20], val_loss: 6090.7080\n",
            "Epoch [40], val_loss: 6091.3638\n",
            "Epoch [60], val_loss: 6095.1812\n",
            "Epoch [80], val_loss: 6127.3960\n",
            "Epoch [100], val_loss: 6075.9019\n",
            "Epoch [120], val_loss: 6064.5273\n",
            "Epoch [140], val_loss: 6066.3193\n",
            "Epoch [160], val_loss: 6104.9072\n",
            "Epoch [180], val_loss: 6076.8945\n",
            "Epoch [200], val_loss: 6046.6714\n",
            "Epoch [220], val_loss: 6105.1235\n",
            "Epoch [240], val_loss: 6034.8052\n",
            "Epoch [260], val_loss: 6032.4116\n",
            "Epoch [280], val_loss: 6063.8213\n",
            "Epoch [300], val_loss: 5994.8496\n",
            "Epoch [320], val_loss: 6018.0513\n",
            "Epoch [340], val_loss: 6057.6226\n",
            "Epoch [360], val_loss: 6022.4863\n",
            "Epoch [380], val_loss: 5974.3999\n",
            "Epoch [400], val_loss: 5980.8506\n",
            "Epoch [420], val_loss: 5949.5532\n",
            "Epoch [440], val_loss: 5945.2339\n",
            "Epoch [460], val_loss: 5970.0488\n",
            "Epoch [480], val_loss: 5968.4297\n",
            "Epoch [500], val_loss: 5969.4341\n",
            "Epoch [520], val_loss: 5934.6240\n",
            "Epoch [540], val_loss: 5995.5879\n",
            "Epoch [560], val_loss: 5982.9248\n",
            "Epoch [580], val_loss: 5888.9717\n",
            "Epoch [600], val_loss: 5987.0625\n",
            "Epoch [620], val_loss: 5938.7524\n",
            "Epoch [640], val_loss: 5864.2964\n",
            "Epoch [660], val_loss: 5937.5469\n",
            "Epoch [680], val_loss: 5851.0957\n",
            "Epoch [700], val_loss: 5909.8521\n",
            "Epoch [720], val_loss: 5848.0557\n",
            "Epoch [740], val_loss: 5828.3745\n",
            "Epoch [760], val_loss: 5821.8691\n",
            "Epoch [780], val_loss: 5828.1191\n",
            "Epoch [800], val_loss: 5816.6455\n",
            "Epoch [820], val_loss: 5862.5259\n",
            "Epoch [840], val_loss: 5793.1489\n",
            "Epoch [860], val_loss: 5812.1914\n",
            "Epoch [880], val_loss: 5809.0659\n",
            "Epoch [900], val_loss: 5776.4033\n",
            "Epoch [920], val_loss: 5834.6919\n",
            "Epoch [940], val_loss: 5763.3037\n",
            "Epoch [960], val_loss: 5755.3115\n",
            "Epoch [980], val_loss: 5763.2759\n",
            "Epoch [1000], val_loss: 5796.2148\n"
          ],
          "name": "stdout"
        }
      ]
    },
    {
      "cell_type": "code",
      "metadata": {
        "id": "F218GT81H6gL",
        "colab": {
          "base_uri": "https://localhost:8080/"
        },
        "outputId": "7bb475fb-8fba-4a3f-e4f7-fc89235cda4b"
      },
      "source": [
        "epochs = 1000\n",
        "lr = 1e-1\n",
        "history3 = fit(epochs, lr, model, train_loader, val_loader)"
      ],
      "execution_count": 61,
      "outputs": [
        {
          "output_type": "stream",
          "text": [
            "Epoch [20], val_loss: 5737.9316\n",
            "Epoch [40], val_loss: 5770.2319\n",
            "Epoch [60], val_loss: 5753.6670\n",
            "Epoch [80], val_loss: 5725.5527\n",
            "Epoch [100], val_loss: 5726.7432\n",
            "Epoch [120], val_loss: 5696.3438\n",
            "Epoch [140], val_loss: 5800.8135\n",
            "Epoch [160], val_loss: 5681.1284\n",
            "Epoch [180], val_loss: 5696.4678\n",
            "Epoch [200], val_loss: 5713.6787\n",
            "Epoch [220], val_loss: 5716.0322\n",
            "Epoch [240], val_loss: 5707.9092\n",
            "Epoch [260], val_loss: 5721.5952\n",
            "Epoch [280], val_loss: 5700.5820\n",
            "Epoch [300], val_loss: 5634.4082\n",
            "Epoch [320], val_loss: 5687.9238\n",
            "Epoch [340], val_loss: 5666.3032\n",
            "Epoch [360], val_loss: 5610.8779\n",
            "Epoch [380], val_loss: 5657.7905\n",
            "Epoch [400], val_loss: 5607.4336\n",
            "Epoch [420], val_loss: 5639.6113\n",
            "Epoch [440], val_loss: 5677.1855\n",
            "Epoch [460], val_loss: 5574.3848\n",
            "Epoch [480], val_loss: 5592.6016\n",
            "Epoch [500], val_loss: 5590.5151\n",
            "Epoch [520], val_loss: 5607.9150\n",
            "Epoch [540], val_loss: 5640.0835\n",
            "Epoch [560], val_loss: 5574.0591\n",
            "Epoch [580], val_loss: 5533.4893\n",
            "Epoch [600], val_loss: 5531.3301\n",
            "Epoch [620], val_loss: 5526.7388\n",
            "Epoch [640], val_loss: 5598.5889\n",
            "Epoch [660], val_loss: 5532.4102\n",
            "Epoch [680], val_loss: 5559.7393\n",
            "Epoch [700], val_loss: 5519.3550\n",
            "Epoch [720], val_loss: 5488.6592\n",
            "Epoch [740], val_loss: 5482.0981\n",
            "Epoch [760], val_loss: 5564.4805\n",
            "Epoch [780], val_loss: 5490.1968\n",
            "Epoch [800], val_loss: 5524.6699\n",
            "Epoch [820], val_loss: 5453.0015\n",
            "Epoch [840], val_loss: 5443.0352\n",
            "Epoch [860], val_loss: 5436.5732\n",
            "Epoch [880], val_loss: 5450.9453\n",
            "Epoch [900], val_loss: 5477.2778\n",
            "Epoch [920], val_loss: 5422.7979\n",
            "Epoch [940], val_loss: 5413.1904\n",
            "Epoch [960], val_loss: 5423.6514\n",
            "Epoch [980], val_loss: 5416.3359\n",
            "Epoch [1000], val_loss: 5447.1030\n"
          ],
          "name": "stdout"
        }
      ]
    },
    {
      "cell_type": "code",
      "metadata": {
        "id": "v6P3faLoH6gL",
        "colab": {
          "base_uri": "https://localhost:8080/"
        },
        "outputId": "a9a28104-01ea-4d32-b6e7-ef595de45133"
      },
      "source": [
        "epochs = 1000\n",
        "lr = 1e-1\n",
        "history4 = fit(epochs, lr, model, train_loader, val_loader)"
      ],
      "execution_count": 62,
      "outputs": [
        {
          "output_type": "stream",
          "text": [
            "Epoch [20], val_loss: 5399.3936\n",
            "Epoch [40], val_loss: 5409.7080\n",
            "Epoch [60], val_loss: 5444.1909\n",
            "Epoch [80], val_loss: 5451.5898\n",
            "Epoch [100], val_loss: 5382.2617\n",
            "Epoch [120], val_loss: 5360.3052\n",
            "Epoch [140], val_loss: 5339.8857\n",
            "Epoch [160], val_loss: 5361.3843\n",
            "Epoch [180], val_loss: 5336.1724\n",
            "Epoch [200], val_loss: 5324.9502\n",
            "Epoch [220], val_loss: 5360.1299\n",
            "Epoch [240], val_loss: 5358.5259\n",
            "Epoch [260], val_loss: 5334.1152\n",
            "Epoch [280], val_loss: 5317.4766\n",
            "Epoch [300], val_loss: 5283.4175\n",
            "Epoch [320], val_loss: 5322.8950\n",
            "Epoch [340], val_loss: 5327.1479\n",
            "Epoch [360], val_loss: 5307.3516\n",
            "Epoch [380], val_loss: 5258.2061\n",
            "Epoch [400], val_loss: 5253.1396\n",
            "Epoch [420], val_loss: 5240.8848\n",
            "Epoch [440], val_loss: 5247.6138\n",
            "Epoch [460], val_loss: 5258.6162\n",
            "Epoch [480], val_loss: 5240.6733\n",
            "Epoch [500], val_loss: 5224.7012\n",
            "Epoch [520], val_loss: 5246.5918\n",
            "Epoch [540], val_loss: 5206.6782\n",
            "Epoch [560], val_loss: 5232.0996\n",
            "Epoch [580], val_loss: 5275.0557\n",
            "Epoch [600], val_loss: 5226.0034\n",
            "Epoch [620], val_loss: 5259.2446\n",
            "Epoch [640], val_loss: 5202.7681\n",
            "Epoch [660], val_loss: 5173.7407\n",
            "Epoch [680], val_loss: 5171.3916\n",
            "Epoch [700], val_loss: 5151.0000\n",
            "Epoch [720], val_loss: 5138.8149\n",
            "Epoch [740], val_loss: 5150.5693\n",
            "Epoch [760], val_loss: 5162.6211\n",
            "Epoch [780], val_loss: 5123.1582\n",
            "Epoch [800], val_loss: 5185.9688\n",
            "Epoch [820], val_loss: 5196.1045\n",
            "Epoch [840], val_loss: 5132.4565\n",
            "Epoch [860], val_loss: 5140.3472\n",
            "Epoch [880], val_loss: 5100.3398\n",
            "Epoch [900], val_loss: 5091.3765\n",
            "Epoch [920], val_loss: 5087.0532\n",
            "Epoch [940], val_loss: 5083.9028\n",
            "Epoch [960], val_loss: 5076.3770\n",
            "Epoch [980], val_loss: 5105.9834\n",
            "Epoch [1000], val_loss: 5119.9854\n"
          ],
          "name": "stdout"
        }
      ]
    },
    {
      "cell_type": "code",
      "metadata": {
        "id": "goUb7SpqH6gL",
        "colab": {
          "base_uri": "https://localhost:8080/"
        },
        "outputId": "0670be38-7e46-4ddf-d695-5b78924e980f"
      },
      "source": [
        "epochs = 1000\n",
        "lr = 1e-1\n",
        "history5 = fit(epochs, lr, model, train_loader, val_loader)"
      ],
      "execution_count": 63,
      "outputs": [
        {
          "output_type": "stream",
          "text": [
            "Epoch [20], val_loss: 5066.7856\n",
            "Epoch [40], val_loss: 5044.1899\n",
            "Epoch [60], val_loss: 5025.3115\n",
            "Epoch [80], val_loss: 5017.9927\n",
            "Epoch [100], val_loss: 5045.3696\n",
            "Epoch [120], val_loss: 5022.1558\n",
            "Epoch [140], val_loss: 4993.0361\n",
            "Epoch [160], val_loss: 5005.4336\n",
            "Epoch [180], val_loss: 5051.6250\n",
            "Epoch [200], val_loss: 5025.7031\n",
            "Epoch [220], val_loss: 5034.7397\n",
            "Epoch [240], val_loss: 4986.3325\n",
            "Epoch [260], val_loss: 4997.8833\n",
            "Epoch [280], val_loss: 4953.6406\n",
            "Epoch [300], val_loss: 4986.3496\n",
            "Epoch [320], val_loss: 4954.9814\n",
            "Epoch [340], val_loss: 4984.5630\n",
            "Epoch [360], val_loss: 4928.4287\n",
            "Epoch [380], val_loss: 4933.9556\n",
            "Epoch [400], val_loss: 4904.2544\n",
            "Epoch [420], val_loss: 4948.0239\n",
            "Epoch [440], val_loss: 4940.2212\n",
            "Epoch [460], val_loss: 4886.7266\n",
            "Epoch [480], val_loss: 4894.2144\n",
            "Epoch [500], val_loss: 4875.5381\n",
            "Epoch [520], val_loss: 4869.4609\n",
            "Epoch [540], val_loss: 4861.7954\n",
            "Epoch [560], val_loss: 4951.7095\n",
            "Epoch [580], val_loss: 4909.1055\n",
            "Epoch [600], val_loss: 4846.2178\n",
            "Epoch [620], val_loss: 4836.7983\n",
            "Epoch [640], val_loss: 4836.7754\n",
            "Epoch [660], val_loss: 4863.2856\n",
            "Epoch [680], val_loss: 4812.9653\n",
            "Epoch [700], val_loss: 4807.7661\n",
            "Epoch [720], val_loss: 4822.6470\n",
            "Epoch [740], val_loss: 4801.2222\n",
            "Epoch [760], val_loss: 4785.8052\n",
            "Epoch [780], val_loss: 4790.7666\n",
            "Epoch [800], val_loss: 4793.7939\n",
            "Epoch [820], val_loss: 4812.5879\n",
            "Epoch [840], val_loss: 4793.6289\n",
            "Epoch [860], val_loss: 4792.8398\n",
            "Epoch [880], val_loss: 4744.7427\n",
            "Epoch [900], val_loss: 4756.1318\n",
            "Epoch [920], val_loss: 4731.1475\n",
            "Epoch [940], val_loss: 4821.2324\n",
            "Epoch [960], val_loss: 4748.0190\n",
            "Epoch [980], val_loss: 4722.8218\n",
            "Epoch [1000], val_loss: 4751.7119\n"
          ],
          "name": "stdout"
        }
      ]
    },
    {
      "cell_type": "markdown",
      "metadata": {
        "id": "mAm9ej_WH6gL"
      },
      "source": [
        "**Q: What is the final validation loss of your model?**"
      ]
    },
    {
      "cell_type": "code",
      "metadata": {
        "id": "7XtzzutoH6gL",
        "colab": {
          "base_uri": "https://localhost:8080/"
        },
        "outputId": "256ef95c-df82-4900-e37f-cb6ad80c456d"
      },
      "source": [
        "val_loss = [history5[-1]]\r\n",
        "val_loss"
      ],
      "execution_count": 64,
      "outputs": [
        {
          "output_type": "execute_result",
          "data": {
            "text/plain": [
              "[{'val_loss': 4751.7119140625}]"
            ]
          },
          "metadata": {
            "tags": []
          },
          "execution_count": 64
        }
      ]
    },
    {
      "cell_type": "markdown",
      "metadata": {
        "id": "cqNfdD2NH6gL"
      },
      "source": [
        "Let's log the final validation loss to Jovian and commit the notebook"
      ]
    },
    {
      "cell_type": "code",
      "metadata": {
        "id": "2E2t5-rzH6gL",
        "colab": {
          "base_uri": "https://localhost:8080/"
        },
        "outputId": "dd9840f9-2d46-42f2-f0ad-3a42a57cfeea"
      },
      "source": [
        "jovian.log_metrics(val_loss=val_loss)"
      ],
      "execution_count": 65,
      "outputs": [
        {
          "output_type": "stream",
          "text": [
            "[jovian] Metrics logged.\u001b[0m\n"
          ],
          "name": "stdout"
        }
      ]
    },
    {
      "cell_type": "code",
      "metadata": {
        "id": "Hsua-qFSH6gM",
        "colab": {
          "base_uri": "https://localhost:8080/",
          "height": 102
        },
        "outputId": "59dd2283-74e6-44a9-8db8-6e8006179c77"
      },
      "source": [
        "jovian.commit(project=project_name, environment=None)"
      ],
      "execution_count": 66,
      "outputs": [
        {
          "output_type": "stream",
          "text": [
            "[jovian] Detected Colab notebook...\u001b[0m\n",
            "[jovian] Uploading colab notebook to Jovian...\u001b[0m\n",
            "[jovian] Attaching records (metrics, hyperparameters, dataset etc.)\u001b[0m\n",
            "[jovian] Committed successfully! https://jovian.ai/pranavrnambiar/02-insurance-linear-regression\u001b[0m\n"
          ],
          "name": "stdout"
        },
        {
          "output_type": "execute_result",
          "data": {
            "application/vnd.google.colaboratory.intrinsic+json": {
              "type": "string"
            },
            "text/plain": [
              "'https://jovian.ai/pranavrnambiar/02-insurance-linear-regression'"
            ]
          },
          "metadata": {
            "tags": []
          },
          "execution_count": 66
        }
      ]
    },
    {
      "cell_type": "markdown",
      "metadata": {
        "id": "FDzmJRF-H6gM"
      },
      "source": [
        "Now scroll back up, re-initialize the model, and try different set of values for batch size, number of epochs, learning rate etc. Commit each experiment and use the \"Compare\" and \"View Diff\" options on Jovian to compare the different results."
      ]
    },
    {
      "cell_type": "markdown",
      "metadata": {
        "id": "1VPnV8u9H6gM"
      },
      "source": [
        "## Step 5: Make predictions using the trained model\n",
        "\n",
        "**Q: Complete the following function definition to make predictions on a single input**"
      ]
    },
    {
      "cell_type": "code",
      "metadata": {
        "id": "cHLQSJHpH6gM"
      },
      "source": [
        "def predict_single(input, target, model):\n",
        "    inputs = input.unsqueeze(0)\n",
        "    predictions = model(inputs)          # fill this\n",
        "    prediction = predictions[0].detach()\n",
        "    print(\"Input:\", input)\n",
        "    print(\"Target:\", target)\n",
        "    print(\"Prediction:\", prediction)"
      ],
      "execution_count": 68,
      "outputs": []
    },
    {
      "cell_type": "code",
      "metadata": {
        "id": "MzKFFO-hH6gM",
        "colab": {
          "base_uri": "https://localhost:8080/"
        },
        "outputId": "852feaaa-bdd1-48fb-d3f5-cc84c8861ef0"
      },
      "source": [
        "input, target = val_ds[0]\n",
        "predict_single(input, target, model)"
      ],
      "execution_count": 69,
      "outputs": [
        {
          "output_type": "stream",
          "text": [
            "Input: tensor([32.0000,  1.0000, 40.1280,  0.0000,  2.0000])\n",
            "Target: tensor([4530.5210])\n",
            "Prediction: tensor([4888.6709])\n"
          ],
          "name": "stdout"
        }
      ]
    },
    {
      "cell_type": "code",
      "metadata": {
        "id": "R0kKfOsuH6gM",
        "colab": {
          "base_uri": "https://localhost:8080/"
        },
        "outputId": "c3a40089-d9c3-46e5-c5e5-71c2ef655153"
      },
      "source": [
        "input, target = val_ds[10]\n",
        "predict_single(input, target, model)"
      ],
      "execution_count": 70,
      "outputs": [
        {
          "output_type": "stream",
          "text": [
            "Input: tensor([46.0000,  1.0000, 34.7643,  1.0000,  3.0000])\n",
            "Target: tensor([39498.9336])\n",
            "Prediction: tensor([18529.5176])\n"
          ],
          "name": "stdout"
        }
      ]
    },
    {
      "cell_type": "code",
      "metadata": {
        "id": "BUF5zvfjH6gM",
        "colab": {
          "base_uri": "https://localhost:8080/"
        },
        "outputId": "6a3acaa8-4d53-4ed6-bfdf-52b1dcbcec75"
      },
      "source": [
        "input, target = val_ds[23]\n",
        "predict_single(input, target, model)"
      ],
      "execution_count": 71,
      "outputs": [
        {
          "output_type": "stream",
          "text": [
            "Input: tensor([42.0000,  1.0000, 35.6307,  0.0000,  0.0000])\n",
            "Target: tensor([6168.0132])\n",
            "Prediction: tensor([6785.8125])\n"
          ],
          "name": "stdout"
        }
      ]
    },
    {
      "cell_type": "markdown",
      "metadata": {
        "id": "BrN99eTmH6gM"
      },
      "source": []
    },
    {
      "cell_type": "markdown",
      "metadata": {
        "id": "GvvwL3jwH6gN"
      },
      "source": []
    },
    {
      "cell_type": "code",
      "metadata": {
        "id": "_R983386H6gN",
        "colab": {
          "base_uri": "https://localhost:8080/",
          "height": 169
        },
        "outputId": "e46b9c27-11b3-40f5-9dd6-9cdf3bedd748"
      },
      "source": [
        "jovian.commit(project=project_name, environment=None)\n",
        "jovian.commit(project=project_name, environment=None) # try again, kaggle fails sometimes"
      ],
      "execution_count": 72,
      "outputs": [
        {
          "output_type": "stream",
          "text": [
            "[jovian] Detected Colab notebook...\u001b[0m\n",
            "[jovian] Uploading colab notebook to Jovian...\u001b[0m\n",
            "[jovian] Attaching records (metrics, hyperparameters, dataset etc.)\u001b[0m\n",
            "[jovian] Committed successfully! https://jovian.ai/pranavrnambiar/02-insurance-linear-regression\u001b[0m\n",
            "[jovian] Detected Colab notebook...\u001b[0m\n",
            "[jovian] Uploading colab notebook to Jovian...\u001b[0m\n",
            "[jovian] Attaching records (metrics, hyperparameters, dataset etc.)\u001b[0m\n",
            "[jovian] Committed successfully! https://jovian.ai/pranavrnambiar/02-insurance-linear-regression\u001b[0m\n"
          ],
          "name": "stdout"
        },
        {
          "output_type": "execute_result",
          "data": {
            "application/vnd.google.colaboratory.intrinsic+json": {
              "type": "string"
            },
            "text/plain": [
              "'https://jovian.ai/pranavrnambiar/02-insurance-linear-regression'"
            ]
          },
          "metadata": {
            "tags": []
          },
          "execution_count": 72
        }
      ]
    },
    {
      "cell_type": "code",
      "metadata": {
        "id": "K8x-zv3fH6gN"
      },
      "source": [],
      "execution_count": null,
      "outputs": []
    }
  ]
}